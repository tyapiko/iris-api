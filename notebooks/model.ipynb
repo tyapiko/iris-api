{
 "cells": [
  {
   "cell_type": "code",
   "execution_count": 1,
   "id": "aef66f38-3643-4ad4-88bd-5d79e0e53315",
   "metadata": {},
   "outputs": [
    {
     "name": "stdout",
     "output_type": "stream",
     "text": [
      "Model trained and saved to ../iris_model.pkl\n",
      "Sample data prediction: setosa\n"
     ]
    }
   ],
   "source": [
    "# 1. 必要なライブラリをインポート\n",
    "import pandas as pd\n",
    "from sklearn.datasets import load_iris\n",
    "from sklearn.model_selection import train_test_split\n",
    "from sklearn.linear_model import LogisticRegression\n",
    "from sklearn.metrics import accuracy_score\n",
    "import joblib\n",
    "\n",
    "# 2. データのロード\n",
    "iris = load_iris()\n",
    "X, y = iris.data, iris.target\n",
    "\n",
    "# 3. データの分割 (今回は簡単化のため、全データで学習させます)\n",
    "# X_train, X_test, y_train, y_test = train_test_split(X, y, test_size=0.2, random_state=42)\n",
    "\n",
    "# 4. モデルの選択と学習\n",
    "model = LogisticRegression(max_iter=200)\n",
    "model.fit(X, y)\n",
    "\n",
    "# 5. モデルの保存\n",
    "# ポイント： '../' をつけて、一つ上の階層（プロジェクトルート）に保存する\n",
    "joblib.dump(model, '../iris_model.pkl')\n",
    "\n",
    "print(\"Model trained and saved to ../iris_model.pkl\")\n",
    "\n",
    "# (オプション) 学習済みモデルで予測を試す\n",
    "sample_data = [[5.1, 3.5, 1.4, 0.2]] # Setosaのサンプルデータ\n",
    "prediction = model.predict(sample_data)\n",
    "predicted_class_name = iris.target_names[prediction[0]]\n",
    "print(f\"Sample data prediction: {predicted_class_name}\")"
   ]
  },
  {
   "cell_type": "code",
   "execution_count": null,
   "id": "dcf3b393-fb29-48a2-b594-ede907b2ea39",
   "metadata": {},
   "outputs": [],
   "source": []
  },
  {
   "cell_type": "code",
   "execution_count": null,
   "id": "bb3a2f6e-ddc1-464b-842a-61e05cb460ea",
   "metadata": {},
   "outputs": [],
   "source": []
  },
  {
   "cell_type": "code",
   "execution_count": null,
   "id": "49abe3b4-988c-495b-ae1d-da67b2cdf355",
   "metadata": {},
   "outputs": [],
   "source": []
  },
  {
   "cell_type": "code",
   "execution_count": null,
   "id": "4e9dd792-4e8b-4ae9-a45a-710b2214c1a7",
   "metadata": {},
   "outputs": [],
   "source": []
  },
  {
   "cell_type": "code",
   "execution_count": null,
   "id": "9eebf332-ba04-4e6a-b7ab-557f932165fd",
   "metadata": {},
   "outputs": [],
   "source": []
  },
  {
   "cell_type": "code",
   "execution_count": null,
   "id": "2c7e7b8f-c483-4b8d-b670-2cd6386931d1",
   "metadata": {},
   "outputs": [],
   "source": []
  },
  {
   "cell_type": "code",
   "execution_count": null,
   "id": "2ee87f20-95c0-4a7b-accb-ef25126b58df",
   "metadata": {},
   "outputs": [],
   "source": []
  },
  {
   "cell_type": "code",
   "execution_count": null,
   "id": "2ef59577-fb8d-4717-b529-c4668a0bfb49",
   "metadata": {},
   "outputs": [],
   "source": []
  }
 ],
 "metadata": {
  "kernelspec": {
   "display_name": "Python 3 (ipykernel)",
   "language": "python",
   "name": "python3"
  },
  "language_info": {
   "codemirror_mode": {
    "name": "ipython",
    "version": 3
   },
   "file_extension": ".py",
   "mimetype": "text/x-python",
   "name": "python",
   "nbconvert_exporter": "python",
   "pygments_lexer": "ipython3",
   "version": "3.12.3"
  }
 },
 "nbformat": 4,
 "nbformat_minor": 5
}
